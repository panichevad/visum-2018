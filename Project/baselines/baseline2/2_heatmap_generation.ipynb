{
 "cells": [
  {
   "cell_type": "markdown",
   "metadata": {},
   "source": [
    "# 2. Heatmap generation\n",
    "\n",
    "Notebook used to generate ground-truth for the probability maps. "
   ]
  },
  {
   "cell_type": "code",
   "execution_count": null,
   "metadata": {},
   "outputs": [],
   "source": [
    "import numpy as np \n",
    "import pickle\n",
    "import matplotlib.pyplot as plt\n",
    "import cv2"
   ]
  },
  {
   "cell_type": "markdown",
   "metadata": {},
   "source": [
    "Function to generate heatmap for each image:"
   ]
  },
  {
   "cell_type": "code",
   "execution_count": null,
   "metadata": {},
   "outputs": [],
   "source": [
    "def get_pdf(im, kpts, sigma):\n",
    "    w, h, channels = im.shape\n",
    "    \n",
    "    x = np.linspace(0, h-1, h*1)\n",
    "    y = np.linspace(0, w-1, w*1)\n",
    "    [XX, YY] =  np.meshgrid(y,x)\n",
    "    sze = XX.shape[0] * XX.shape[1]\n",
    "    mvg = np.zeros((sze));    \n",
    "    std = sigma\n",
    "    p = 2\n",
    "    count=0\n",
    "    for i in range(0,37):\n",
    "        mu = np.array([kpts[i][1], kpts[i][0]]).reshape((2,1)) \n",
    "        mu = np.tile(mu, (1, sze))\n",
    "        mcov = np.identity(2) * std\n",
    "        \n",
    "        X = np.array([np.ravel(XX.T), np.ravel(YY.T)])\n",
    "        \n",
    "        temp0 = 1 / ( math.pow(2*math.pi, p/2) * \\\n",
    "                    math.pow(np.linalg.det(mcov), 0.5) )\n",
    "        \n",
    "        temp1 = -0.5*(X-mu).T\n",
    "        temp2 = np.linalg.inv(mcov).dot(X-mu) \n",
    "        \n",
    "        temp3 = temp0 * np.exp(np.sum(temp1 * temp2.T, axis=1))\n",
    "        maximum = max(temp3.ravel())\n",
    "        \n",
    "        mvg = mvg + temp3\n",
    "        count += 1\n",
    "    \n",
    "        mvg[mvg>maximum] = maximum\n",
    "        \n",
    "    mvg = mvg.reshape((XX.shape[1], XX.shape[0]))\n",
    "    \n",
    "    mvg = ( mvg - min(mvg.ravel()) ) / ( max(mvg.ravel()) - min(mvg.ravel()) )\n",
    "    \n",
    "    mvg = mvg * 255.0\n",
    "    mvg = cv2.resize(mvg, (h, w), interpolation = cv2.INTER_CUBIC)\n",
    "    mvg = mvg / 255.0\n",
    "    mvg[mvg<0] = 0\n",
    "   \n",
    "    return mvg"
   ]
  },
  {
   "cell_type": "markdown",
   "metadata": {},
   "source": [
    "To feed the previous function, a tupple of keypoints (x,y) is needed. The next function transforms array of keypoints in array of tupples:"
   ]
  },
  {
   "cell_type": "code",
   "execution_count": null,
   "metadata": {},
   "outputs": [],
   "source": [
    "def tupple(data):\n",
    "    \n",
    "    points = np.array(data)\n",
    "    \n",
    "    tupple_keypoints = []\n",
    "    tupple_aux = [] \n",
    "    x = []\n",
    "    y = []\n",
    "    \n",
    "    for i in range(points.shape[0]): \n",
    "        for j in range(74): \n",
    "            if (j % 2 == 0): \n",
    "                x.append(int(points[i][j]))\n",
    "            else:\n",
    "                y.append(int(points[i][j]))    \n",
    "        for z in range(37):\n",
    "            tupple_aux.append((int(x[z]),int(y[z])))\n",
    "        tupple_keypoints.append(tupple_aux)\n",
    "        x = [] \n",
    "        y = [] \n",
    "        tupple_aux = [] \n",
    "    \n",
    "    for i in range(points.shape[0]):\n",
    "        tupple_keypoints.append(points[i])\n",
    "    \n",
    "    keypoints = np.array(tupple_keypoints)\n",
    "\n",
    "    return keypoints"
   ]
  },
  {
   "cell_type": "markdown",
   "metadata": {},
   "source": [
    "Function to generate heatmaps for dataset:"
   ]
  },
  {
   "cell_type": "code",
   "execution_count": null,
   "metadata": {},
   "outputs": [],
   "source": [
    "def heatmap_generation(X, keypoints):\n",
    "    density_map = []\n",
    "    for i in range(len(X)):\n",
    "        oriImg = X[i]\n",
    "        mapa = get_pdf(oriImg,keypoints[i],400)\n",
    "        density_map.append(mapa)\n",
    "    return np.array(density_map)"
   ]
  },
  {
   "cell_type": "markdown",
   "metadata": {},
   "source": [
    "Read pre-processed data (images and keypoints):"
   ]
  },
  {
   "cell_type": "code",
   "execution_count": null,
   "metadata": {},
   "outputs": [],
   "source": [
    "with open('pre_processed_data/X_train_preprocessed.pickle', 'rb') as f:\n",
    "    X_train = pickle.load(f)\n",
    "\n",
    "with open('pre_processed_data/y_train_preprocessed.pickle', 'rb') as f:\n",
    "    data_train = pickle.load(f)"
   ]
  },
  {
   "cell_type": "markdown",
   "metadata": {},
   "source": [
    "Apply functions created:"
   ]
  },
  {
   "cell_type": "code",
   "execution_count": null,
   "metadata": {},
   "outputs": [],
   "source": [
    "keypoints_train = tupple(data_train)    \n",
    "\n",
    "density_map_train = heatmap_generation(X_train, keypoints_train)"
   ]
  },
  {
   "cell_type": "markdown",
   "metadata": {},
   "source": [
    "Save ground-truth:"
   ]
  },
  {
   "cell_type": "code",
   "execution_count": null,
   "metadata": {},
   "outputs": [],
   "source": [
    "with open('pre_processed_data/heatmap_train.pickle', 'wb') as f:\n",
    "    pickle.dump(density_map_train, f)"
   ]
  }
 ],
 "metadata": {
  "kernelspec": {
   "display_name": "Python 3",
   "language": "python",
   "name": "python3"
  },
  "language_info": {
   "codemirror_mode": {
    "name": "ipython",
    "version": 3
   },
   "file_extension": ".py",
   "mimetype": "text/x-python",
   "name": "python",
   "nbconvert_exporter": "python",
   "pygments_lexer": "ipython3",
   "version": "3.5.2"
  }
 },
 "nbformat": 4,
 "nbformat_minor": 2
}
