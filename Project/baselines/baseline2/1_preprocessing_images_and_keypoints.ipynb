{
 "cells": [
  {
   "cell_type": "markdown",
   "metadata": {},
   "source": [
    "# 1. Preprocessing images and keypoints\n",
    "\n",
    "Notebook used to pre-process images and keypoints. In here, both images and keypoints are converted to the same size. "
   ]
  },
  {
   "cell_type": "code",
   "execution_count": null,
   "metadata": {},
   "outputs": [],
   "source": [
    "from skimage import transform\n",
    "import pickle\n",
    "import scipy.misc\n",
    "import matplotlib.pyplot as plt\n",
    "import numpy as np "
   ]
  },
  {
   "cell_type": "markdown",
   "metadata": {},
   "source": [
    "Function to convert images and keypoints to the same size:"
   ]
  },
  {
   "cell_type": "code",
   "execution_count": null,
   "metadata": {},
   "outputs": [],
   "source": [
    "def resize_image_and_keypoints(images, keypoints): \n",
    "    X = []\n",
    "    y = []\n",
    "    orig_shape = []\n",
    "    for i in range(images.shape[0]):\n",
    "        rows, columns, channels = images[i].shape\n",
    "        orig_shape.append([rows, columns, channels])\n",
    "        x1 = rows/1536\n",
    "        x2 = columns/2048\n",
    "        aux = np.array(images[i])\n",
    "        aux = transform.resize(aux, (aux.shape[0] / x1, aux.shape[1] / x2))\n",
    "        aux = scipy.misc.imresize(aux,25)\n",
    "        aux = np.reshape(aux,(384,512,3))\n",
    "        X.append(aux)\n",
    "        for j in range(np.shape(keypoints)[1]):\n",
    "            if(j % 2 == 0):\n",
    "                keypoints[i][j] /= x2\n",
    "            else:\n",
    "                keypoints[i][j] /= x1\n",
    "        y.append(keypoints[i] * 0.25)\n",
    "    return X, y, orig_shape"
   ]
  },
  {
   "cell_type": "markdown",
   "metadata": {},
   "source": [
    "Read training data (images and keypoints):"
   ]
  },
  {
   "cell_type": "code",
   "execution_count": null,
   "metadata": {},
   "outputs": [],
   "source": [
    "with open('/data/X_train.pickle', 'rb') as f:\n",
    "    X_train_original = pickle.load(f)\n",
    "with open('/data/y_train.pickle', 'rb') as f:\n",
    "    y_train_original = pickle.load(f)"
   ]
  },
  {
   "cell_type": "markdown",
   "metadata": {},
   "source": [
    "Convert images and keypoints using function created:"
   ]
  },
  {
   "cell_type": "code",
   "execution_count": null,
   "metadata": {},
   "outputs": [],
   "source": [
    "X_train_preprocessed, y_train_preprocessed, orig_shape_train =  resize_image_and_keypoints(X_train_original, y_train_original)\n",
    "\n",
    "X_train_preprocessed = np.array(X_train_preprocessed)"
   ]
  },
  {
   "cell_type": "markdown",
   "metadata": {},
   "source": [
    "Save pre-processed data for use in heatmap generation and training:"
   ]
  },
  {
   "cell_type": "code",
   "execution_count": null,
   "metadata": {},
   "outputs": [],
   "source": [
    "with open('pre_processed_data/X_train_preprocessed.pickle', 'wb') as f:\n",
    "    pickle.dump(X_train_preprocessed, f)\n",
    "\n",
    "with open('pre_processed_data/y_train_preprocessed.pickle', 'wb') as f:\n",
    "    pickle.dump(y_train_preprocessed, f)\n",
    "    \n",
    "with open('pre_processed_data/Original_shape_train.pickle', 'wb') as f:\n",
    "    pickle.dump(orig_shape_train, f)"
   ]
  }
 ],
 "metadata": {
  "kernelspec": {
   "display_name": "Python 3",
   "language": "python",
   "name": "python3"
  },
  "language_info": {
   "codemirror_mode": {
    "name": "ipython",
    "version": 3
   },
   "file_extension": ".py",
   "mimetype": "text/x-python",
   "name": "python",
   "nbconvert_exporter": "python",
   "pygments_lexer": "ipython3",
   "version": "3.5.2"
  }
 },
 "nbformat": 4,
 "nbformat_minor": 2
}
