{
 "cells": [
  {
   "cell_type": "markdown",
   "metadata": {},
   "source": [
    "# Baseline 1: manually-extracted features\n",
    "\n",
    "Train script for a breast keypoint detection simple solution.\n",
    "\n",
    "This script was made as an example to the VISUM challenge."
   ]
  },
  {
   "cell_type": "markdown",
   "metadata": {},
   "source": [
    "## Initialization\n",
    "\n",
    "First, load the data:"
   ]
  },
  {
   "cell_type": "code",
   "execution_count": null,
   "metadata": {},
   "outputs": [],
   "source": [
    "import numpy as np\n",
    "import pickle\n",
    "from matplotlib import pyplot as plt\n",
    "from shapely.geometry import LineString, Point\n",
    "import baseline1.process_image as proc\n",
    "import baseline1.config as config\n",
    "from utils import scoring\n",
    "from utils import dists\n",
    "\n",
    "\n",
    "# Load training dataset\n",
    "with open('/data/X_train.pickle', 'rb') as f:\n",
    "    X_train = pickle.load(f)\n",
    "with open('/data/y_train.pickle', 'rb') as f:\n",
    "    y_train = pickle.load(f)\n",
    "\n",
    "np.random.seed(config.seed)\n",
    "indexes = np.random.permutation(np.arange(config.DATA_SET_SIZE))\n",
    "X_train = X_train[indexes]\n",
    "y_train = y_train[indexes]\n",
    "\n",
    "# Lists with the features of all nipples on the training set\n",
    "# After storing all features the lists are used to compute a \n",
    "# probabilistic model.\n",
    "left_nipple_values = []\n",
    "right_nipple_values = []\n",
    "\n",
    "# Mean model is used if the algorithm fails to present a solution\n",
    "# (i.e. no initial keypoints are found)\n",
    "mean_model = []"
   ]
  },
  {
   "cell_type": "markdown",
   "metadata": {},
   "source": [
    "## Auxiliary functions\n",
    "Auxiliary functions used during training:\n",
    "\n",
    "### compute_prob_dist\n",
    "Given a list of values computes the mean and standard desviation\n",
    "\n",
    "### get_angle\n",
    "Given the breast contour points and the nipple position computes an angle value for the position of the nipple\n",
    "\n",
    "### get_dist\n",
    "Given the breast contour points and the nipple position computes the euclidean distance between nipple and breast contour.\n",
    "\n",
    "### get_color\n",
    "Given the image, breast contour points and the nipple position returns the relative rgb color of the nipple"
   ]
  },
  {
   "cell_type": "code",
   "execution_count": null,
   "metadata": {},
   "outputs": [],
   "source": [
    "def compute_prob_dist(nipple_values):\n",
    "    nipple_values = np.array(nipple_values)\n",
    "    means = nipple_values.mean(axis=0)\n",
    "    stds = nipple_values.std(axis=0)\n",
    "    return (means,stds) \n",
    "\n",
    "\n",
    "def get_angle(breast,nipple):\n",
    "    mean_point = (breast[0]+breast[-1])/2\n",
    "    vec = nipple-mean_point\n",
    "    return np.arctan2(vec[0,0],vec[0,1])\n",
    "\n",
    "\n",
    "def get_dist(breast,nipple):\n",
    "    x,y = dists.spline(breast,n_points=1000)\n",
    "    points = np.stack([x,y],axis=1)\n",
    "    line = LineString(points)\n",
    "    return Point(np.squeeze(nipple)).distance(line)\n",
    "\n",
    "\n",
    "def get_color(img,breast,nipple):\n",
    "    shape = [*img.shape[0:2]]\n",
    "    mask = proc.get_breast_mask(shape, breast)\n",
    "    \n",
    "    # Get the mean color in the nipple area [5x5] square\n",
    "    nipple = np.round(nipple).astype(int)\n",
    "    nipple_color = np.average(img[nipple[0,0]-2:nipple[0,0]+3,nipple[0,1]-2:nipple[0,1]+3],axis=(0,1))\n",
    "    \n",
    "    # Get the mean color of the breast\n",
    "    mean_color = np.asarray([np.average(img[:,:,0],weights=mask),\n",
    "                             np.average(img[:,:,1],weights=mask),\n",
    "                             np.average(img[:,:,2],weights=mask)\n",
    "                            ])\n",
    "    # return colors normalized by the difference\n",
    "    return list(nipple_color-mean_color)"
   ]
  },
  {
   "cell_type": "markdown",
   "metadata": {},
   "source": [
    "## \"Training\"\n",
    "\n",
    "Finding features from the images."
   ]
  },
  {
   "cell_type": "code",
   "execution_count": null,
   "metadata": {
    "scrolled": true
   },
   "outputs": [],
   "source": [
    "print(\"Training started (%d images)\" % config.n_images_in_train)\n",
    "print(\"\\tCollecting patient features\")\n",
    "\n",
    "# For each patient breasts shapes and nipple features are captured.\n",
    "for i in range(110, config.n_images_in_train):\n",
    "    img = X_train[i]\n",
    "    y = y_train[i]\n",
    "    img,y = proc.preprocess_img(img, y)\n",
    "    mean_model.append(y)\n",
    "\n",
    "    # Get the angle, distance and color features of the nipple on the left\n",
    "    # and add it to the list \n",
    "    y_left_breast = dists.get_keypoints(y,\"left_boundary\")\n",
    "    y_left_nipple = dists.get_keypoints(y,\"left_nipple\")\n",
    "    left_angle = get_angle(y_left_breast,y_left_nipple)\n",
    "    left_rel_distance = get_dist(y_left_breast,y_left_nipple)\n",
    "    left_color = get_color(img,y_left_breast,y_left_nipple)\n",
    "    left_nipple_values.append([left_angle,left_rel_distance,*left_color])\n",
    "\n",
    "    # Get the angle, distance and color features of the nipple on the right\n",
    "    # and add it to the list    \n",
    "    y_right_breast = dists.get_keypoints(y,\"right_boundary\")\n",
    "    y_right_nipple = dists.get_keypoints(y,\"right_nipple\")\n",
    "    right_angle = get_angle(y_right_breast,y_right_nipple)\n",
    "    right_rel_distance = get_dist(y_right_breast,y_right_nipple)\n",
    "    right_color = get_color(img,y_right_breast,y_right_nipple)\n",
    "    right_nipple_values.append([right_angle,right_rel_distance,*right_color])\n",
    "\n",
    "print(\"\\tComputing nipple probability distributions\")\n",
    "    \n",
    "# Compute probability distribution for nipples on the left and on the right\n",
    "# Feature probability is modelled as a gaussian distribution\n",
    "left_nipple_params = compute_prob_dist(left_nipple_values)\n",
    "right_nipple_params = compute_prob_dist(right_nipple_values)\n",
    "\n",
    "print(\"\\tSaving models\")\n",
    "    \n",
    "# Save all the created models\n",
    "np.save('models/left_nipple_params.npy', left_nipple_params)\n",
    "np.save('models/right_nipple_params.npy', right_nipple_params)\n",
    "mean_model = np.mean(mean_model, 0) \n",
    "np.save('models/mean_model.npy', mean_model)\n",
    "\n",
    "print(\"\\tTraining finished\")"
   ]
  },
  {
   "cell_type": "markdown",
   "metadata": {},
   "source": [
    "## Validation\n",
    "\n",
    "Run this chunk to have an idea of how good the previous code was."
   ]
  },
  {
   "cell_type": "code",
   "execution_count": null,
   "metadata": {},
   "outputs": [],
   "source": [
    "DEBUG_FINAL = True  # check the prediction images"
   ]
  },
  {
   "cell_type": "code",
   "execution_count": null,
   "metadata": {},
   "outputs": [],
   "source": [
    "import model\n",
    "from utils import scoring\n",
    "\n",
    "detections = []\n",
    "ground_truths = []\n",
    "original_shapes = []\n",
    "\n",
    "if config.validate == \"remaining\":\n",
    "    init_image = config.n_images_in_train    \n",
    "elif config.validate == \"all\":\n",
    "    init_image = 0\n",
    "\n",
    "print(\"Validation started (%d images)\" % (config.DATA_SET_SIZE - init_image))\n",
    "\n",
    "for i in range(init_image, config.DATA_SET_SIZE):\n",
    "    print(\"Image: \", indexes[i])\n",
    "    det = model.test(X_train[i], debug_verbose=config.debug_final, suffix=str(i))\n",
    "    detections.append(det)\n",
    "    ground_truths.append(y_train[i])\n",
    "    original_shapes.append(X_train[i].shape)\n",
    "    if config.debug_final:\n",
    "        plt.clf()\n",
    "        y = y_train[i].reshape([37,2])\n",
    "        detection = det.reshape([37,2])\n",
    "        plt.imshow(X_train[i])\n",
    "        plt.scatter(detection[:,0], detection[:,1], c=\"r\", s=4)\n",
    "        plt.scatter(y[:,0], y[:,1], c=\"b\", s=4)\n",
    "        plt.show()\n",
    "\n",
    "with open('models/val_detections.pkl', 'wb') as f:\n",
    "    pickle.dump(detections, f)\n",
    "with open('models/val_ground_truths.pkl', 'wb') as f:\n",
    "    pickle.dump(ground_truths, f)\n",
    "with open('models/val_original_shapes.pkl', 'wb') as f:\n",
    "    pickle.dump(original_shapes, f)\n",
    "\n",
    "scores = scoring.generate_scores(detections,ground_truths,original_shapes)\n",
    "with open('models/val_scores.pkl', 'wb') as f:\n",
    "    pickle.dump(scores, f)\n",
    "print(\"\\tFinished validation\")\n",
    "\n",
    "score_mean = list(np.round(np.asarray(scores).mean(axis=0), decimals=4))\n",
    "\n",
    "print(\"Task:  \", \"BrstB \", \"nipple\", \"juggul\")\n",
    "print(\"Scores:\", *score_mean)"
   ]
  },
  {
   "cell_type": "code",
   "execution_count": null,
   "metadata": {},
   "outputs": [],
   "source": []
  }
 ],
 "metadata": {
  "kernelspec": {
   "display_name": "Python 3",
   "language": "python",
   "name": "python3"
  },
  "language_info": {
   "codemirror_mode": {
    "name": "ipython",
    "version": 3
   },
   "file_extension": ".py",
   "mimetype": "text/x-python",
   "name": "python",
   "nbconvert_exporter": "python",
   "pygments_lexer": "ipython3",
   "version": "3.5.2"
  }
 },
 "nbformat": 4,
 "nbformat_minor": 2
}
