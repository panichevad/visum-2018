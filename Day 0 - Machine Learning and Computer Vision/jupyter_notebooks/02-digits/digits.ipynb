{
 "cells": [
  {
   "cell_type": "markdown",
   "metadata": {},
   "source": [
    "# Digits recognition"
   ]
  },
  {
   "cell_type": "markdown",
   "metadata": {},
   "source": [
    "* Acknowledgment:  This notebook was originally created by Pedro Vendas Costa.*\n",
    "* Acknowledgment:  This notebook is being used with the kind permission of Kelwin Fernandes and Ricardo Cruz. *"
   ]
  },
  {
   "cell_type": "markdown",
   "metadata": {},
   "source": [
    "We are going to use:\n",
    "- numpy for the linear algebra\n",
    "- matplotlib to draw graphics"
   ]
  },
  {
   "cell_type": "code",
   "execution_count": 1,
   "metadata": {},
   "outputs": [],
   "source": [
    "%matplotlib inline\n",
    "import numpy as np\n",
    "import matplotlib.pyplot as plt"
   ]
  },
  {
   "cell_type": "markdown",
   "metadata": {},
   "source": [
    "One of the most famous data available is MNIST which has thousands of hand-written digits: 0, 1, 2, 3, 4, ..., 8, 9!\n",
    "\n",
    "The digits are in gray-scale. Each digit is therefore a matrix.\n",
    "\n",
    "Let's import the data..."
   ]
  },
  {
   "cell_type": "code",
   "execution_count": 2,
   "metadata": {},
   "outputs": [],
   "source": [
    "filename = 'mnist.pkl.gz'\n",
    "\n",
    "import gzip\n",
    "import pickle\n",
    "with gzip.open(filename, 'rb') as f:\n",
    "    digits = pickle.load(f, encoding='latin-1')"
   ]
  },
  {
   "cell_type": "markdown",
   "metadata": {},
   "source": [
    "The digits are split in:\n",
    "- train set\n",
    "- test set.\n",
    "\n",
    "This is very common in data mining. We use the training set to train our model. Then, we evaluate it using the test set."
   ]
  },
  {
   "cell_type": "code",
   "execution_count": 3,
   "metadata": {},
   "outputs": [],
   "source": [
    "Xtr, ytr = digits[0]\n",
    "Xts, yts = digits[1]"
   ]
  },
  {
   "cell_type": "code",
   "execution_count": 4,
   "metadata": {},
   "outputs": [
    {
     "data": {
      "text/plain": [
       "(50000, 10000)"
      ]
     },
     "execution_count": 4,
     "metadata": {},
     "output_type": "execute_result"
    }
   ],
   "source": [
    "len(Xtr), len(Xts)"
   ]
  },
  {
   "cell_type": "code",
   "execution_count": 5,
   "metadata": {},
   "outputs": [
    {
     "data": {
      "text/plain": [
       "(50000, 784)"
      ]
     },
     "execution_count": 5,
     "metadata": {},
     "output_type": "execute_result"
    }
   ],
   "source": [
    "Xtr.shape"
   ]
  },
  {
   "cell_type": "markdown",
   "metadata": {},
   "source": [
    "Each image is $28$ by $28$ in size and is therefore represented as a vector of size $28\\times28=784$."
   ]
  },
  {
   "cell_type": "code",
   "execution_count": 6,
   "metadata": {},
   "outputs": [
    {
     "data": {
      "text/plain": [
       "(784,)"
      ]
     },
     "execution_count": 6,
     "metadata": {},
     "output_type": "execute_result"
    }
   ],
   "source": [
    "Xtr[0].shape"
   ]
  },
  {
   "cell_type": "markdown",
   "metadata": {},
   "source": [
    "Let us draw one of the digits:"
   ]
  },
  {
   "cell_type": "code",
   "execution_count": 7,
   "metadata": {},
   "outputs": [
    {
     "data": {
      "image/png": "[encoded data removed]",
      "text/plain": [
       "<Figure size 432x288 with 1 Axes>"
      ]
     },
     "metadata": {},
     "output_type": "display_data"
    }
   ],
   "source": [
    "x = Xtr[0]\n",
    "x = x.reshape((28, 28))\n",
    "\n",
    "plt.imshow(x, cmap=plt.cm.gray_r)\n",
    "plt.show()"
   ]
  },
  {
   "cell_type": "markdown",
   "metadata": {},
   "source": [
    "**Exercise:** Do a loop and draw the first 10 digits in the training set...\n",
    "\n",
    "*hint: use* for i in range(10)"
   ]
  },
  {
   "cell_type": "code",
   "execution_count": null,
   "metadata": {},
   "outputs": [],
   "source": []
  },
  {
   "cell_type": "markdown",
   "metadata": {},
   "source": [
    "# Logistic Regression"
   ]
  },
  {
   "cell_type": "markdown",
   "metadata": {},
   "source": [
    "We are going to detect the digits using a model called \"logistic regression\".\n",
    "\n",
    "Each image is made of numbers. Each number is multiplied by a weight and contributes to the probability of being a 0 or 1 or ... 9.\n",
    "\n",
    "For example, say that $w = [2, -2]$ and $b = 2$:\n",
    "\n",
    "<img src=\"logistic.png\" />\n",
    "\n",
    "When we feed the model with $X = [1, 4]$, the model computes $X[0] \\times w[0] + X[1] \\times w[1] + b$ and then squashes the result to be between 0 and 1 using the sigmoid function.\n",
    "\n",
    "In other words, the model computes $P(y\\ |\\ x) = \\sigma(x \\cdot w + b)$. The algorithm learns the best set of $w$ and $b$ that explain the data."
   ]
  },
  {
   "cell_type": "markdown",
   "metadata": {},
   "source": [
    "------------------\n",
    "\n",
    "Let us try to see if we detect correctly the 0...\n",
    "\n",
    "We are going to use the implementation from scikit-learn. See the [documentation here.](http://scikit-learn.org/stable/modules/generated/sklearn.linear_model.LogisticRegression.html)"
   ]
  },
  {
   "cell_type": "code",
   "execution_count": null,
   "metadata": {},
   "outputs": [],
   "source": [
    "from sklearn.linear_model import LogisticRegression\n",
    "m = LogisticRegression(C=1)\n",
    "m.fit(Xtr, ytr)\n",
    "yp = m.predict(Xts)"
   ]
  },
  {
   "cell_type": "markdown",
   "metadata": {},
   "source": [
    "Several \"metrics\" exist to see how well our model is..."
   ]
  },
  {
   "cell_type": "code",
   "execution_count": null,
   "metadata": {},
   "outputs": [],
   "source": [
    "from sklearn.metrics import accuracy_score\n",
    "print(accuracy_score(ytr, m.predict(Xtr)))"
   ]
  },
  {
   "cell_type": "code",
   "execution_count": null,
   "metadata": {},
   "outputs": [],
   "source": [
    "from sklearn.metrics import accuracy_score\n",
    "print(accuracy_score(yts, yp))"
   ]
  },
  {
   "cell_type": "code",
   "execution_count": null,
   "metadata": {},
   "outputs": [],
   "source": [
    "from sklearn.metrics import confusion_matrix\n",
    "print(confusion_matrix(yts, yp))"
   ]
  },
  {
   "cell_type": "markdown",
   "metadata": {},
   "source": [
    "Let us look at the weights for detecting 0..."
   ]
  },
  {
   "cell_type": "code",
   "execution_count": null,
   "metadata": {},
   "outputs": [],
   "source": [
    "m.coef_[0].shape"
   ]
  },
  {
   "cell_type": "markdown",
   "metadata": {},
   "source": [
    "Each weight corresponds to a pixel in the image.\n",
    "\n",
    "The shape of the weights is $784$, therefore we can convert them back to $28\\times28$."
   ]
  },
  {
   "cell_type": "code",
   "execution_count": null,
   "metadata": {},
   "outputs": [],
   "source": [
    "for i in range(10):\n",
    "    coef = m.coef_[i]\n",
    "    plt.imshow(coef.reshape((28, 28)))\n",
    "    plt.colorbar()\n",
    "    plt.show()"
   ]
  },
  {
   "cell_type": "markdown",
   "metadata": {},
   "source": [
    "**Exercise:** Try reducing the C hyperparameter to see what happens...\n",
    "\n",
    "`C=0.0001`"
   ]
  },
  {
   "cell_type": "markdown",
   "metadata": {},
   "source": [
    "------\n",
    "\n",
    "What is going on?\n",
    "\n",
    "The logitistic regression tries to minimize the difference between its predictions and the true numbers. But if $C$ is small, then it will punish high coefficients. This avoids any individual pixel having a big impact in the result, and forces the logistic regression to learn more hollistically."
   ]
  },
  {
   "cell_type": "markdown",
   "metadata": {},
   "source": [
    "----\n",
    "\n",
    "Let's see some examples we have failed on:"
   ]
  },
  {
   "cell_type": "code",
   "execution_count": null,
   "metadata": {},
   "outputs": [],
   "source": [
    "i = 0\n",
    "for x, _yts, _yp in zip(Xts, yts, yp):\n",
    "    if _yts != _yp:\n",
    "        print(_yp)\n",
    "        plt.imshow(x.reshape((28, 28)), cmap=plt.cm.gray_r)\n",
    "        plt.show()\n",
    "        i += 1\n",
    "        if i == 10:\n",
    "            break"
   ]
  },
  {
   "cell_type": "markdown",
   "metadata": {},
   "source": [
    "# Artificial Neural Networks\n",
    "\n",
    "Another interesting model are artificial neural networks.\n",
    "\n",
    "See the [documentation in sklearn](http://scikit-learn.org/stable/modules/generated/sklearn.neural_network.MLPClassifier.html) if you want to use that model.\n",
    "\n",
    "The idea is to use lots of logistic regressions on top of each other.\n",
    "\n",
    "<img src=\"ann.jpg\" />\n",
    "\n",
    "More complicated neural networks exist as well... We are not going to enter there today...!"
   ]
  },
  {
   "cell_type": "markdown",
   "metadata": {},
   "source": [
    "# Decision Tree\n",
    "\n",
    "Another interesting model are decision trees.\n",
    "\n",
    "<img src=\"dtree.gif\" />\n",
    "\n",
    "Let's apply this model to this problem."
   ]
  },
  {
   "cell_type": "markdown",
   "metadata": {},
   "source": [
    "Firstly, let's make images black-and-white. This makes our decision trees nicer to interpret because each decision will be only `If(Pixel(x,y) = 1) then ...`"
   ]
  },
  {
   "cell_type": "code",
   "execution_count": null,
   "metadata": {},
   "outputs": [],
   "source": [
    "Xtr = (Xtr > 0.5).astype(int)\n",
    "Xts = (Xts > 0.5).astype(int)"
   ]
  },
  {
   "cell_type": "code",
   "execution_count": null,
   "metadata": {},
   "outputs": [],
   "source": [
    "plt.imshow(Xtr[0].reshape((28, 28)), cmap=plt.cm.gray_r)\n",
    "plt.show()"
   ]
  },
  {
   "cell_type": "markdown",
   "metadata": {},
   "source": [
    "**Exercise:** Use a `DecisionTreeClassifier`. See the [documentation here.](http://scikit-learn.org/stable/modules/generated/sklearn.tree.DecisionTreeClassifier.html)"
   ]
  },
  {
   "cell_type": "code",
   "execution_count": null,
   "metadata": {},
   "outputs": [],
   "source": []
  },
  {
   "cell_type": "markdown",
   "metadata": {},
   "source": [
    "Test the accuracy of the model."
   ]
  },
  {
   "cell_type": "code",
   "execution_count": null,
   "metadata": {},
   "outputs": [],
   "source": []
  },
  {
   "cell_type": "markdown",
   "metadata": {},
   "source": [
    "*Optional:* draw the decision tree (the following code only works if you have graphviz installed.)"
   ]
  },
  {
   "cell_type": "code",
   "execution_count": null,
   "metadata": {},
   "outputs": [],
   "source": [
    "from sklearn.tree import export_graphviz\n",
    "import graphviz\n",
    "export_graphviz(m, 'mytree.dot', label='none', impurity=False, rotate=True)\n",
    "with open('mytree.dot') as f:\n",
    "    dot_graph = f.read()\n",
    "graphviz.Source(dot_graph)"
   ]
  },
  {
   "cell_type": "markdown",
   "metadata": {},
   "source": [
    "**Exercise:** change the `max_depth` hyperparameter and see the impact on the tree."
   ]
  },
  {
   "cell_type": "markdown",
   "metadata": {},
   "source": [
    "---\n",
    "\n",
    "The more complex a model is, the harder it is to understand it becomes.\n",
    "\n",
    "Sometimes, we want to understand what is going on.\n",
    "\n",
    "Here, we go through some of the images, and cover parts of the image to see if the model misclassifies the image in those cases."
   ]
  },
  {
   "cell_type": "code",
   "execution_count": null,
   "metadata": {},
   "outputs": [],
   "source": [
    "for i in range(10):\n",
    "    print(yts[i])\n",
    "    X = Xts[i]\n",
    "    yps = np.zeros((28, 28))\n",
    "    for x in range(0, 28, 5):\n",
    "        for y in range(0, 28, 5):\n",
    "            img = X.copy().reshape((28, 28))\n",
    "            img[y:y+5, x:x+5] = 1\n",
    "            yps[y:y+5, x:x+5] = m.predict(img.flatten()[np.newaxis, :])\n",
    "\n",
    "    plt.imshow(X.reshape((28, 28)), cmap=plt.cm.gray)\n",
    "    plt.imshow(yps, cmap=plt.cm.jet, alpha=0.8)\n",
    "    plt.colorbar()\n",
    "    plt.show()"
   ]
  },
  {
   "cell_type": "code",
   "execution_count": null,
   "metadata": {},
   "outputs": [],
   "source": []
  }
 ],
 "metadata": {
  "kernelspec": {
   "display_name": "Python 3",
   "language": "python",
   "name": "python3"
  },
  "language_info": {
   "codemirror_mode": {
    "name": "ipython",
    "version": 3
   },
   "file_extension": ".py",
   "mimetype": "text/x-python",
   "name": "python",
   "nbconvert_exporter": "python",
   "pygments_lexer": "ipython3",
   "version": "3.6.5"
  }
 },
 "nbformat": 4,
 "nbformat_minor": 1
}
